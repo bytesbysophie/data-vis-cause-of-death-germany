{
 "cells": [
  {
   "cell_type": "markdown",
   "metadata": {},
   "source": [
    "# Cause of Death in Germany | Data Prep"
   ]
  },
  {
   "cell_type": "code",
   "execution_count": 4,
   "metadata": {},
   "outputs": [],
   "source": [
    "import pandas as pd"
   ]
  },
  {
   "cell_type": "markdown",
   "metadata": {},
   "source": [
    "## Load Data"
   ]
  },
  {
   "cell_type": "code",
   "execution_count": 5,
   "metadata": {},
   "outputs": [],
   "source": [
    "df = pd.read_csv('../data/23211-0004.csv', header=[5,6,7,8], skipfooter=4, sep=\";\", encoding='unicode_escape', engine='python')"
   ]
  },
  {
   "cell_type": "code",
   "execution_count": 6,
   "metadata": {},
   "outputs": [
    {
     "data": {
      "text/html": [
       "<div>\n",
       "<style scoped>\n",
       "    .dataframe tbody tr th:only-of-type {\n",
       "        vertical-align: middle;\n",
       "    }\n",
       "\n",
       "    .dataframe tbody tr th {\n",
       "        vertical-align: top;\n",
       "    }\n",
       "\n",
       "    .dataframe thead tr th {\n",
       "        text-align: left;\n",
       "    }\n",
       "</style>\n",
       "<table border=\"1\" class=\"dataframe\">\n",
       "  <thead>\n",
       "    <tr>\n",
       "      <th></th>\n",
       "      <th>Unnamed: 0_level_0</th>\n",
       "      <th>Unnamed: 1_level_0</th>\n",
       "      <th colspan=\"19\" halign=\"left\">Sex</th>\n",
       "    </tr>\n",
       "    <tr>\n",
       "      <th></th>\n",
       "      <th>Unnamed: 0_level_1</th>\n",
       "      <th>Unnamed: 1_level_1</th>\n",
       "      <th colspan=\"8\" halign=\"left\">Male</th>\n",
       "      <th>...</th>\n",
       "      <th colspan=\"10\" halign=\"left\">Female</th>\n",
       "    </tr>\n",
       "    <tr>\n",
       "      <th></th>\n",
       "      <th>Unnamed: 0_level_2</th>\n",
       "      <th>Unnamed: 1_level_2</th>\n",
       "      <th colspan=\"8\" halign=\"left\">Age groups</th>\n",
       "      <th>...</th>\n",
       "      <th colspan=\"10\" halign=\"left\">Age groups</th>\n",
       "    </tr>\n",
       "    <tr>\n",
       "      <th></th>\n",
       "      <th>Unnamed: 0_level_3</th>\n",
       "      <th>Unnamed: 1_level_3</th>\n",
       "      <th>under 1 year</th>\n",
       "      <th>1 to under 15 years</th>\n",
       "      <th>15 to under 20 years</th>\n",
       "      <th>20 to under 25 years</th>\n",
       "      <th>25 to under 30 years</th>\n",
       "      <th>30 to under 35 years</th>\n",
       "      <th>35 to under 40 years</th>\n",
       "      <th>40 to under 45 years</th>\n",
       "      <th>...</th>\n",
       "      <th>45 to under 50 years</th>\n",
       "      <th>50 to under 55 years</th>\n",
       "      <th>55 to under 60 years</th>\n",
       "      <th>60 to under 65 years</th>\n",
       "      <th>65 to under 70 years</th>\n",
       "      <th>70 to under 75 years</th>\n",
       "      <th>75 to under 80 years</th>\n",
       "      <th>80 to under 85 years</th>\n",
       "      <th>85 years and over</th>\n",
       "      <th>age unknown</th>\n",
       "    </tr>\n",
       "  </thead>\n",
       "  <tbody>\n",
       "    <tr>\n",
       "      <th>0</th>\n",
       "      <td>1980</td>\n",
       "      <td>Total</td>\n",
       "      <td>6205</td>\n",
       "      <td>3076</td>\n",
       "      <td>3965</td>\n",
       "      <td>4521</td>\n",
       "      <td>3762</td>\n",
       "      <td>3721</td>\n",
       "      <td>6039</td>\n",
       "      <td>10964</td>\n",
       "      <td>...</td>\n",
       "      <td>6827</td>\n",
       "      <td>10796</td>\n",
       "      <td>18003</td>\n",
       "      <td>18744</td>\n",
       "      <td>44609</td>\n",
       "      <td>74204</td>\n",
       "      <td>99357</td>\n",
       "      <td>101841</td>\n",
       "      <td>100802</td>\n",
       "      <td>5</td>\n",
       "    </tr>\n",
       "    <tr>\n",
       "      <th>1</th>\n",
       "      <td>1980</td>\n",
       "      <td>Certain infectious and parasitic diseases</td>\n",
       "      <td>185</td>\n",
       "      <td>115</td>\n",
       "      <td>24</td>\n",
       "      <td>18</td>\n",
       "      <td>28</td>\n",
       "      <td>25</td>\n",
       "      <td>66</td>\n",
       "      <td>121</td>\n",
       "      <td>...</td>\n",
       "      <td>69</td>\n",
       "      <td>74</td>\n",
       "      <td>141</td>\n",
       "      <td>117</td>\n",
       "      <td>232</td>\n",
       "      <td>345</td>\n",
       "      <td>411</td>\n",
       "      <td>380</td>\n",
       "      <td>345</td>\n",
       "      <td>-</td>\n",
       "    </tr>\n",
       "    <tr>\n",
       "      <th>2</th>\n",
       "      <td>1980</td>\n",
       "      <td>Tuberculosis, including its sequelae</td>\n",
       "      <td>-</td>\n",
       "      <td>1</td>\n",
       "      <td>2</td>\n",
       "      <td>4</td>\n",
       "      <td>11</td>\n",
       "      <td>10</td>\n",
       "      <td>33</td>\n",
       "      <td>79</td>\n",
       "      <td>...</td>\n",
       "      <td>27</td>\n",
       "      <td>26</td>\n",
       "      <td>64</td>\n",
       "      <td>48</td>\n",
       "      <td>94</td>\n",
       "      <td>123</td>\n",
       "      <td>150</td>\n",
       "      <td>116</td>\n",
       "      <td>84</td>\n",
       "      <td>-</td>\n",
       "    </tr>\n",
       "    <tr>\n",
       "      <th>3</th>\n",
       "      <td>1980</td>\n",
       "      <td>Meningococcal infection</td>\n",
       "      <td>22</td>\n",
       "      <td>25</td>\n",
       "      <td>1</td>\n",
       "      <td>1</td>\n",
       "      <td>-</td>\n",
       "      <td>-</td>\n",
       "      <td>3</td>\n",
       "      <td>-</td>\n",
       "      <td>...</td>\n",
       "      <td>1</td>\n",
       "      <td>2</td>\n",
       "      <td>1</td>\n",
       "      <td>1</td>\n",
       "      <td>-</td>\n",
       "      <td>3</td>\n",
       "      <td>2</td>\n",
       "      <td>1</td>\n",
       "      <td>3</td>\n",
       "      <td>-</td>\n",
       "    </tr>\n",
       "    <tr>\n",
       "      <th>4</th>\n",
       "      <td>1980</td>\n",
       "      <td>Viral hepatitis</td>\n",
       "      <td>3</td>\n",
       "      <td>6</td>\n",
       "      <td>2</td>\n",
       "      <td>3</td>\n",
       "      <td>-</td>\n",
       "      <td>2</td>\n",
       "      <td>2</td>\n",
       "      <td>4</td>\n",
       "      <td>...</td>\n",
       "      <td>1</td>\n",
       "      <td>4</td>\n",
       "      <td>8</td>\n",
       "      <td>5</td>\n",
       "      <td>14</td>\n",
       "      <td>16</td>\n",
       "      <td>14</td>\n",
       "      <td>11</td>\n",
       "      <td>4</td>\n",
       "      <td>-</td>\n",
       "    </tr>\n",
       "  </tbody>\n",
       "</table>\n",
       "<p>5 rows × 38 columns</p>\n",
       "</div>"
      ],
      "text/plain": [
       "  Unnamed: 0_level_0                         Unnamed: 1_level_0          Sex  \\\n",
       "  Unnamed: 0_level_1                         Unnamed: 1_level_1         Male   \n",
       "  Unnamed: 0_level_2                         Unnamed: 1_level_2   Age groups   \n",
       "  Unnamed: 0_level_3                         Unnamed: 1_level_3 under 1 year   \n",
       "0               1980                                      Total         6205   \n",
       "1               1980  Certain infectious and parasitic diseases          185   \n",
       "2               1980       Tuberculosis, including its sequelae            -   \n",
       "3               1980                    Meningococcal infection           22   \n",
       "4               1980                            Viral hepatitis            3   \n",
       "\n",
       "                                                                 \\\n",
       "                                                                  \n",
       "                                                                  \n",
       "  1 to under 15 years 15 to under 20 years 20 to under 25 years   \n",
       "0                3076                 3965                 4521   \n",
       "1                 115                   24                   18   \n",
       "2                   1                    2                    4   \n",
       "3                  25                    1                    1   \n",
       "4                   6                    2                    3   \n",
       "\n",
       "                                                                  \\\n",
       "                                                                   \n",
       "                                                                   \n",
       "  25 to under 30 years 30 to under 35 years 35 to under 40 years   \n",
       "0                 3762                 3721                 6039   \n",
       "1                   28                   25                   66   \n",
       "2                   11                   10                   33   \n",
       "3                    -                    -                    3   \n",
       "4                    -                    2                    2   \n",
       "\n",
       "                        ...                                            \\\n",
       "                        ...               Female                        \n",
       "                        ...           Age groups                        \n",
       "  40 to under 45 years  ... 45 to under 50 years 50 to under 55 years   \n",
       "0                10964  ...                 6827                10796   \n",
       "1                  121  ...                   69                   74   \n",
       "2                   79  ...                   27                   26   \n",
       "3                    -  ...                    1                    2   \n",
       "4                    4  ...                    1                    4   \n",
       "\n",
       "                                                                  \\\n",
       "                                                                   \n",
       "                                                                   \n",
       "  55 to under 60 years 60 to under 65 years 65 to under 70 years   \n",
       "0                18003                18744                44609   \n",
       "1                  141                  117                  232   \n",
       "2                   64                   48                   94   \n",
       "3                    1                    1                    -   \n",
       "4                    8                    5                   14   \n",
       "\n",
       "                                                                  \\\n",
       "                                                                   \n",
       "                                                                   \n",
       "  70 to under 75 years 75 to under 80 years 80 to under 85 years   \n",
       "0                74204                99357               101841   \n",
       "1                  345                  411                  380   \n",
       "2                  123                  150                  116   \n",
       "3                    3                    2                    1   \n",
       "4                   16                   14                   11   \n",
       "\n",
       "                                 \n",
       "                                 \n",
       "                                 \n",
       "  85 years and over age unknown  \n",
       "0            100802           5  \n",
       "1               345           -  \n",
       "2                84           -  \n",
       "3                 3           -  \n",
       "4                 4           -  \n",
       "\n",
       "[5 rows x 38 columns]"
      ]
     },
     "execution_count": 6,
     "metadata": {},
     "output_type": "execute_result"
    }
   ],
   "source": [
    "df.head()"
   ]
  },
  {
   "cell_type": "markdown",
   "metadata": {},
   "source": [
    "## Transform Data"
   ]
  },
  {
   "cell_type": "markdown",
   "metadata": {},
   "source": [
    "**Convert from wide to long format (keep fist two columns as index columns)**"
   ]
  },
  {
   "cell_type": "code",
   "execution_count": 7,
   "metadata": {},
   "outputs": [],
   "source": [
    "df = df.melt(id_vars=[df.columns[0], df.columns[1]])"
   ]
  },
  {
   "cell_type": "code",
   "execution_count": 8,
   "metadata": {},
   "outputs": [
    {
     "data": {
      "text/html": [
       "<div>\n",
       "<style scoped>\n",
       "    .dataframe tbody tr th:only-of-type {\n",
       "        vertical-align: middle;\n",
       "    }\n",
       "\n",
       "    .dataframe tbody tr th {\n",
       "        vertical-align: top;\n",
       "    }\n",
       "\n",
       "    .dataframe thead th {\n",
       "        text-align: right;\n",
       "    }\n",
       "</style>\n",
       "<table border=\"1\" class=\"dataframe\">\n",
       "  <thead>\n",
       "    <tr style=\"text-align: right;\">\n",
       "      <th></th>\n",
       "      <th>(Unnamed: 0_level_0, Unnamed: 0_level_1, Unnamed: 0_level_2, Unnamed: 0_level_3)</th>\n",
       "      <th>(Unnamed: 1_level_0, Unnamed: 1_level_1, Unnamed: 1_level_2, Unnamed: 1_level_3)</th>\n",
       "      <th>variable_0</th>\n",
       "      <th>variable_1</th>\n",
       "      <th>variable_2</th>\n",
       "      <th>variable_3</th>\n",
       "      <th>value</th>\n",
       "    </tr>\n",
       "  </thead>\n",
       "  <tbody>\n",
       "    <tr>\n",
       "      <th>0</th>\n",
       "      <td>1980</td>\n",
       "      <td>Total</td>\n",
       "      <td>Sex</td>\n",
       "      <td>Male</td>\n",
       "      <td>Age groups</td>\n",
       "      <td>under 1 year</td>\n",
       "      <td>6205</td>\n",
       "    </tr>\n",
       "    <tr>\n",
       "      <th>1</th>\n",
       "      <td>1980</td>\n",
       "      <td>Certain infectious and parasitic diseases</td>\n",
       "      <td>Sex</td>\n",
       "      <td>Male</td>\n",
       "      <td>Age groups</td>\n",
       "      <td>under 1 year</td>\n",
       "      <td>185</td>\n",
       "    </tr>\n",
       "  </tbody>\n",
       "</table>\n",
       "</div>"
      ],
      "text/plain": [
       "   (Unnamed: 0_level_0, Unnamed: 0_level_1, Unnamed: 0_level_2, Unnamed: 0_level_3)  \\\n",
       "0                                               1980                                  \n",
       "1                                               1980                                  \n",
       "\n",
       "  (Unnamed: 1_level_0, Unnamed: 1_level_1, Unnamed: 1_level_2, Unnamed: 1_level_3)  \\\n",
       "0                                              Total                                 \n",
       "1          Certain infectious and parasitic diseases                                 \n",
       "\n",
       "  variable_0 variable_1  variable_2    variable_3 value  \n",
       "0        Sex       Male  Age groups  under 1 year  6205  \n",
       "1        Sex       Male  Age groups  under 1 year   185  "
      ]
     },
     "execution_count": 8,
     "metadata": {},
     "output_type": "execute_result"
    }
   ],
   "source": [
    "df.head(2)"
   ]
  },
  {
   "cell_type": "markdown",
   "metadata": {},
   "source": [
    "**Remove unnecessary columns (variable_0, variable_2)**"
   ]
  },
  {
   "cell_type": "code",
   "execution_count": 9,
   "metadata": {},
   "outputs": [],
   "source": [
    "df = df.drop(columns=['variable_0', 'variable_2'])"
   ]
  },
  {
   "cell_type": "code",
   "execution_count": 10,
   "metadata": {},
   "outputs": [
    {
     "data": {
      "text/html": [
       "<div>\n",
       "<style scoped>\n",
       "    .dataframe tbody tr th:only-of-type {\n",
       "        vertical-align: middle;\n",
       "    }\n",
       "\n",
       "    .dataframe tbody tr th {\n",
       "        vertical-align: top;\n",
       "    }\n",
       "\n",
       "    .dataframe thead th {\n",
       "        text-align: right;\n",
       "    }\n",
       "</style>\n",
       "<table border=\"1\" class=\"dataframe\">\n",
       "  <thead>\n",
       "    <tr style=\"text-align: right;\">\n",
       "      <th></th>\n",
       "      <th>(Unnamed: 0_level_0, Unnamed: 0_level_1, Unnamed: 0_level_2, Unnamed: 0_level_3)</th>\n",
       "      <th>(Unnamed: 1_level_0, Unnamed: 1_level_1, Unnamed: 1_level_2, Unnamed: 1_level_3)</th>\n",
       "      <th>variable_1</th>\n",
       "      <th>variable_3</th>\n",
       "      <th>value</th>\n",
       "    </tr>\n",
       "  </thead>\n",
       "  <tbody>\n",
       "    <tr>\n",
       "      <th>0</th>\n",
       "      <td>1980</td>\n",
       "      <td>Total</td>\n",
       "      <td>Male</td>\n",
       "      <td>under 1 year</td>\n",
       "      <td>6205</td>\n",
       "    </tr>\n",
       "    <tr>\n",
       "      <th>1</th>\n",
       "      <td>1980</td>\n",
       "      <td>Certain infectious and parasitic diseases</td>\n",
       "      <td>Male</td>\n",
       "      <td>under 1 year</td>\n",
       "      <td>185</td>\n",
       "    </tr>\n",
       "  </tbody>\n",
       "</table>\n",
       "</div>"
      ],
      "text/plain": [
       "   (Unnamed: 0_level_0, Unnamed: 0_level_1, Unnamed: 0_level_2, Unnamed: 0_level_3)  \\\n",
       "0                                               1980                                  \n",
       "1                                               1980                                  \n",
       "\n",
       "  (Unnamed: 1_level_0, Unnamed: 1_level_1, Unnamed: 1_level_2, Unnamed: 1_level_3)  \\\n",
       "0                                              Total                                 \n",
       "1          Certain infectious and parasitic diseases                                 \n",
       "\n",
       "  variable_1    variable_3 value  \n",
       "0       Male  under 1 year  6205  \n",
       "1       Male  under 1 year   185  "
      ]
     },
     "execution_count": 10,
     "metadata": {},
     "output_type": "execute_result"
    }
   ],
   "source": [
    "df.head(2)"
   ]
  },
  {
   "cell_type": "markdown",
   "metadata": {},
   "source": [
    "**Rename columns**"
   ]
  },
  {
   "cell_type": "code",
   "execution_count": 11,
   "metadata": {},
   "outputs": [],
   "source": [
    "df.columns = ['year', 'cause', 'gender', 'age', 'count']"
   ]
  },
  {
   "cell_type": "code",
   "execution_count": 12,
   "metadata": {},
   "outputs": [
    {
     "data": {
      "text/html": [
       "<div>\n",
       "<style scoped>\n",
       "    .dataframe tbody tr th:only-of-type {\n",
       "        vertical-align: middle;\n",
       "    }\n",
       "\n",
       "    .dataframe tbody tr th {\n",
       "        vertical-align: top;\n",
       "    }\n",
       "\n",
       "    .dataframe thead th {\n",
       "        text-align: right;\n",
       "    }\n",
       "</style>\n",
       "<table border=\"1\" class=\"dataframe\">\n",
       "  <thead>\n",
       "    <tr style=\"text-align: right;\">\n",
       "      <th></th>\n",
       "      <th>year</th>\n",
       "      <th>cause</th>\n",
       "      <th>gender</th>\n",
       "      <th>age</th>\n",
       "      <th>count</th>\n",
       "    </tr>\n",
       "  </thead>\n",
       "  <tbody>\n",
       "    <tr>\n",
       "      <th>0</th>\n",
       "      <td>1980</td>\n",
       "      <td>Total</td>\n",
       "      <td>Male</td>\n",
       "      <td>under 1 year</td>\n",
       "      <td>6205</td>\n",
       "    </tr>\n",
       "    <tr>\n",
       "      <th>1</th>\n",
       "      <td>1980</td>\n",
       "      <td>Certain infectious and parasitic diseases</td>\n",
       "      <td>Male</td>\n",
       "      <td>under 1 year</td>\n",
       "      <td>185</td>\n",
       "    </tr>\n",
       "  </tbody>\n",
       "</table>\n",
       "</div>"
      ],
      "text/plain": [
       "   year                                      cause gender           age count\n",
       "0  1980                                      Total   Male  under 1 year  6205\n",
       "1  1980  Certain infectious and parasitic diseases   Male  under 1 year   185"
      ]
     },
     "execution_count": 12,
     "metadata": {},
     "output_type": "execute_result"
    }
   ],
   "source": [
    "df.head(2)"
   ]
  },
  {
   "cell_type": "markdown",
   "metadata": {},
   "source": [
    "## Clean Data"
   ]
  },
  {
   "cell_type": "markdown",
   "metadata": {},
   "source": [
    "**Remove \"total\" rows (we will calculate them ourserlfs if needed)**"
   ]
  },
  {
   "cell_type": "code",
   "execution_count": 13,
   "metadata": {},
   "outputs": [
    {
     "name": "stdout",
     "output_type": "stream",
     "text": [
      "Number of rows with 'Total' as cause:  1404\n"
     ]
    }
   ],
   "source": [
    "print(\"Number of rows with 'Total' as cause: \", len(df[df['cause']=='Total']))"
   ]
  },
  {
   "cell_type": "code",
   "execution_count": 14,
   "metadata": {},
   "outputs": [],
   "source": [
    "df = df.drop(df[df['cause']=='Total'].index, axis=0)"
   ]
  },
  {
   "cell_type": "code",
   "execution_count": 15,
   "metadata": {},
   "outputs": [
    {
     "name": "stdout",
     "output_type": "stream",
     "text": [
      "Number of rows with 'Total' as cause:  0\n"
     ]
    }
   ],
   "source": [
    "print(\"Number of rows with 'Total' as cause: \", len(df[df['cause']=='Total']))"
   ]
  },
  {
   "cell_type": "markdown",
   "metadata": {},
   "source": [
    "**Check gender and age for missing values**"
   ]
  },
  {
   "cell_type": "code",
   "execution_count": 16,
   "metadata": {},
   "outputs": [
    {
     "data": {
      "text/plain": [
       "array(['Male', 'Female'], dtype=object)"
      ]
     },
     "execution_count": 16,
     "metadata": {},
     "output_type": "execute_result"
    }
   ],
   "source": [
    "df['gender'].unique()"
   ]
  },
  {
   "cell_type": "code",
   "execution_count": 17,
   "metadata": {},
   "outputs": [
    {
     "data": {
      "text/plain": [
       "array(['under 1 year', '1 to under 15 years', '15 to under 20 years',\n",
       "       '20 to under 25 years', '25 to under 30 years',\n",
       "       '30 to under 35 years', '35 to under 40 years',\n",
       "       '40 to under 45 years', '45 to under 50 years',\n",
       "       '50 to under 55 years', '55 to under 60 years',\n",
       "       '60 to under 65 years', '65 to under 70 years',\n",
       "       '70 to under 75 years', '75 to under 80 years',\n",
       "       '80 to under 85 years', '85 years and over', 'age unknown'],\n",
       "      dtype=object)"
      ]
     },
     "execution_count": 17,
     "metadata": {},
     "output_type": "execute_result"
    }
   ],
   "source": [
    "df['age'].unique()"
   ]
  },
  {
   "cell_type": "markdown",
   "metadata": {},
   "source": [
    "For gender no missing values could be detected. The mssing values for age (coded as 'age unknown') will stay in the dataset for now. However, depending on the use case we might remove them later on."
   ]
  },
  {
   "cell_type": "markdown",
   "metadata": {},
   "source": [
    "**Change data types**"
   ]
  },
  {
   "cell_type": "code",
   "execution_count": 20,
   "metadata": {},
   "outputs": [
    {
     "name": "stdout",
     "output_type": "stream",
     "text": [
      "<class 'pandas.core.frame.DataFrame'>\n",
      "Int64Index: 110916 entries, 1 to 112319\n",
      "Data columns (total 5 columns):\n",
      " #   Column  Non-Null Count   Dtype \n",
      "---  ------  --------------   ----- \n",
      " 0   year    110916 non-null  int64 \n",
      " 1   cause   110916 non-null  object\n",
      " 2   gender  110916 non-null  object\n",
      " 3   age     110916 non-null  object\n",
      " 4   count   110916 non-null  object\n",
      "dtypes: int64(1), object(4)\n",
      "memory usage: 5.1+ MB\n"
     ]
    }
   ],
   "source": [
    "df.info()"
   ]
  },
  {
   "cell_type": "markdown",
   "metadata": {},
   "source": [
    "Change count from string to number"
   ]
  },
  {
   "cell_type": "code",
   "execution_count": 35,
   "metadata": {},
   "outputs": [],
   "source": [
    "df['count'] = pd.to_numeric(df['count'], errors='coerce').fillna(0).astype(int)"
   ]
  },
  {
   "cell_type": "code",
   "execution_count": 36,
   "metadata": {},
   "outputs": [
    {
     "data": {
      "text/html": [
       "<div>\n",
       "<style scoped>\n",
       "    .dataframe tbody tr th:only-of-type {\n",
       "        vertical-align: middle;\n",
       "    }\n",
       "\n",
       "    .dataframe tbody tr th {\n",
       "        vertical-align: top;\n",
       "    }\n",
       "\n",
       "    .dataframe thead th {\n",
       "        text-align: right;\n",
       "    }\n",
       "</style>\n",
       "<table border=\"1\" class=\"dataframe\">\n",
       "  <thead>\n",
       "    <tr style=\"text-align: right;\">\n",
       "      <th></th>\n",
       "      <th>year</th>\n",
       "      <th>cause</th>\n",
       "      <th>gender</th>\n",
       "      <th>age</th>\n",
       "      <th>count</th>\n",
       "    </tr>\n",
       "  </thead>\n",
       "  <tbody>\n",
       "    <tr>\n",
       "      <th>1</th>\n",
       "      <td>1980</td>\n",
       "      <td>Certain infectious and parasitic diseases</td>\n",
       "      <td>Male</td>\n",
       "      <td>under 1 year</td>\n",
       "      <td>185</td>\n",
       "    </tr>\n",
       "    <tr>\n",
       "      <th>2</th>\n",
       "      <td>1980</td>\n",
       "      <td>Tuberculosis, including its sequelae</td>\n",
       "      <td>Male</td>\n",
       "      <td>under 1 year</td>\n",
       "      <td>0</td>\n",
       "    </tr>\n",
       "  </tbody>\n",
       "</table>\n",
       "</div>"
      ],
      "text/plain": [
       "   year                                      cause gender           age  count\n",
       "1  1980  Certain infectious and parasitic diseases   Male  under 1 year    185\n",
       "2  1980       Tuberculosis, including its sequelae   Male  under 1 year      0"
      ]
     },
     "execution_count": 36,
     "metadata": {},
     "output_type": "execute_result"
    }
   ],
   "source": [
    "df.head(2)"
   ]
  },
  {
   "cell_type": "markdown",
   "metadata": {},
   "source": [
    "## Save Data"
   ]
  },
  {
   "cell_type": "code",
   "execution_count": 38,
   "metadata": {},
   "outputs": [],
   "source": [
    "df.to_csv('../data/cause_of_death_germany_until_2018.csv')"
   ]
  },
  {
   "cell_type": "code",
   "execution_count": null,
   "metadata": {},
   "outputs": [],
   "source": []
  },
  {
   "cell_type": "code",
   "execution_count": null,
   "metadata": {},
   "outputs": [],
   "source": []
  }
 ],
 "metadata": {
  "kernelspec": {
   "display_name": "Python 3",
   "language": "python",
   "name": "python3"
  },
  "language_info": {
   "codemirror_mode": {
    "name": "ipython",
    "version": 3
   },
   "file_extension": ".py",
   "mimetype": "text/x-python",
   "name": "python",
   "nbconvert_exporter": "python",
   "pygments_lexer": "ipython3",
   "version": "3.8.2"
  }
 },
 "nbformat": 4,
 "nbformat_minor": 4
}
